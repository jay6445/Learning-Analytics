{
 "cells": [
  {
   "cell_type": "markdown",
   "metadata": {},
   "source": [
    "### Evaluation of models"
   ]
  },
  {
   "cell_type": "markdown",
   "metadata": {},
   "source": [
    "## How do you determine if a model is a good fit ?\n",
    "### 1. Do predicted values make sense ?\n",
    "### 2. Visualization\n",
    "### 3. Numerical measures such as R squared and adjusted R squared"
   ]
  },
  {
   "cell_type": "code",
   "execution_count": 2,
   "metadata": {},
   "outputs": [],
   "source": [
    "import pandas as pd\n",
    "import numpy as np\n"
   ]
  },
  {
   "cell_type": "code",
   "execution_count": 3,
   "metadata": {},
   "outputs": [
    {
     "data": {
      "text/html": [
       "<div>\n",
       "<style scoped>\n",
       "    .dataframe tbody tr th:only-of-type {\n",
       "        vertical-align: middle;\n",
       "    }\n",
       "\n",
       "    .dataframe tbody tr th {\n",
       "        vertical-align: top;\n",
       "    }\n",
       "\n",
       "    .dataframe thead th {\n",
       "        text-align: right;\n",
       "    }\n",
       "</style>\n",
       "<table border=\"1\" class=\"dataframe\">\n",
       "  <thead>\n",
       "    <tr style=\"text-align: right;\">\n",
       "      <th></th>\n",
       "      <th>symboling</th>\n",
       "      <th>normalized-losses</th>\n",
       "      <th>make</th>\n",
       "      <th>fuel-type</th>\n",
       "      <th>aspiration</th>\n",
       "      <th>num-of-doors</th>\n",
       "      <th>body-style</th>\n",
       "      <th>drive-wheels</th>\n",
       "      <th>engine-location</th>\n",
       "      <th>wheel-base</th>\n",
       "      <th>...</th>\n",
       "      <th>stroke</th>\n",
       "      <th>compression-ratio</th>\n",
       "      <th>horsepower</th>\n",
       "      <th>peak-rpm</th>\n",
       "      <th>city-mpg</th>\n",
       "      <th>highway-mpg</th>\n",
       "      <th>price</th>\n",
       "      <th>price-binned</th>\n",
       "      <th>diesel</th>\n",
       "      <th>gas</th>\n",
       "    </tr>\n",
       "  </thead>\n",
       "  <tbody>\n",
       "    <tr>\n",
       "      <td>0</td>\n",
       "      <td>3</td>\n",
       "      <td>99.54</td>\n",
       "      <td>alfa-romero</td>\n",
       "      <td>gas</td>\n",
       "      <td>std</td>\n",
       "      <td>two</td>\n",
       "      <td>convertible</td>\n",
       "      <td>rwd</td>\n",
       "      <td>front</td>\n",
       "      <td>88.6</td>\n",
       "      <td>...</td>\n",
       "      <td>2.68</td>\n",
       "      <td>9.0</td>\n",
       "      <td>111</td>\n",
       "      <td>5000</td>\n",
       "      <td>21</td>\n",
       "      <td>27</td>\n",
       "      <td>13495</td>\n",
       "      <td>low</td>\n",
       "      <td>0</td>\n",
       "      <td>1</td>\n",
       "    </tr>\n",
       "    <tr>\n",
       "      <td>1</td>\n",
       "      <td>3</td>\n",
       "      <td>99.54</td>\n",
       "      <td>alfa-romero</td>\n",
       "      <td>gas</td>\n",
       "      <td>std</td>\n",
       "      <td>two</td>\n",
       "      <td>convertible</td>\n",
       "      <td>rwd</td>\n",
       "      <td>front</td>\n",
       "      <td>88.6</td>\n",
       "      <td>...</td>\n",
       "      <td>2.68</td>\n",
       "      <td>9.0</td>\n",
       "      <td>111</td>\n",
       "      <td>5000</td>\n",
       "      <td>21</td>\n",
       "      <td>27</td>\n",
       "      <td>16500</td>\n",
       "      <td>low</td>\n",
       "      <td>0</td>\n",
       "      <td>1</td>\n",
       "    </tr>\n",
       "    <tr>\n",
       "      <td>2</td>\n",
       "      <td>1</td>\n",
       "      <td>99.54</td>\n",
       "      <td>alfa-romero</td>\n",
       "      <td>gas</td>\n",
       "      <td>std</td>\n",
       "      <td>two</td>\n",
       "      <td>hatchback</td>\n",
       "      <td>rwd</td>\n",
       "      <td>front</td>\n",
       "      <td>94.5</td>\n",
       "      <td>...</td>\n",
       "      <td>3.47</td>\n",
       "      <td>9.0</td>\n",
       "      <td>154</td>\n",
       "      <td>5000</td>\n",
       "      <td>19</td>\n",
       "      <td>26</td>\n",
       "      <td>16500</td>\n",
       "      <td>low</td>\n",
       "      <td>0</td>\n",
       "      <td>1</td>\n",
       "    </tr>\n",
       "    <tr>\n",
       "      <td>3</td>\n",
       "      <td>2</td>\n",
       "      <td>164.00</td>\n",
       "      <td>audi</td>\n",
       "      <td>gas</td>\n",
       "      <td>std</td>\n",
       "      <td>four</td>\n",
       "      <td>sedan</td>\n",
       "      <td>fwd</td>\n",
       "      <td>front</td>\n",
       "      <td>99.8</td>\n",
       "      <td>...</td>\n",
       "      <td>3.40</td>\n",
       "      <td>10.0</td>\n",
       "      <td>102</td>\n",
       "      <td>5500</td>\n",
       "      <td>24</td>\n",
       "      <td>30</td>\n",
       "      <td>13950</td>\n",
       "      <td>low</td>\n",
       "      <td>0</td>\n",
       "      <td>1</td>\n",
       "    </tr>\n",
       "    <tr>\n",
       "      <td>4</td>\n",
       "      <td>2</td>\n",
       "      <td>164.00</td>\n",
       "      <td>audi</td>\n",
       "      <td>gas</td>\n",
       "      <td>std</td>\n",
       "      <td>four</td>\n",
       "      <td>sedan</td>\n",
       "      <td>4wd</td>\n",
       "      <td>front</td>\n",
       "      <td>99.4</td>\n",
       "      <td>...</td>\n",
       "      <td>3.40</td>\n",
       "      <td>8.0</td>\n",
       "      <td>115</td>\n",
       "      <td>5500</td>\n",
       "      <td>18</td>\n",
       "      <td>22</td>\n",
       "      <td>17450</td>\n",
       "      <td>low</td>\n",
       "      <td>0</td>\n",
       "      <td>1</td>\n",
       "    </tr>\n",
       "    <tr>\n",
       "      <td>5</td>\n",
       "      <td>2</td>\n",
       "      <td>99.54</td>\n",
       "      <td>audi</td>\n",
       "      <td>gas</td>\n",
       "      <td>std</td>\n",
       "      <td>two</td>\n",
       "      <td>sedan</td>\n",
       "      <td>fwd</td>\n",
       "      <td>front</td>\n",
       "      <td>99.8</td>\n",
       "      <td>...</td>\n",
       "      <td>3.40</td>\n",
       "      <td>8.5</td>\n",
       "      <td>110</td>\n",
       "      <td>5500</td>\n",
       "      <td>19</td>\n",
       "      <td>25</td>\n",
       "      <td>15250</td>\n",
       "      <td>low</td>\n",
       "      <td>0</td>\n",
       "      <td>1</td>\n",
       "    </tr>\n",
       "    <tr>\n",
       "      <td>6</td>\n",
       "      <td>1</td>\n",
       "      <td>158.00</td>\n",
       "      <td>audi</td>\n",
       "      <td>gas</td>\n",
       "      <td>std</td>\n",
       "      <td>four</td>\n",
       "      <td>sedan</td>\n",
       "      <td>fwd</td>\n",
       "      <td>front</td>\n",
       "      <td>105.8</td>\n",
       "      <td>...</td>\n",
       "      <td>3.40</td>\n",
       "      <td>8.5</td>\n",
       "      <td>110</td>\n",
       "      <td>5500</td>\n",
       "      <td>19</td>\n",
       "      <td>25</td>\n",
       "      <td>17710</td>\n",
       "      <td>low</td>\n",
       "      <td>0</td>\n",
       "      <td>1</td>\n",
       "    </tr>\n",
       "    <tr>\n",
       "      <td>7</td>\n",
       "      <td>1</td>\n",
       "      <td>99.54</td>\n",
       "      <td>audi</td>\n",
       "      <td>gas</td>\n",
       "      <td>std</td>\n",
       "      <td>four</td>\n",
       "      <td>wagon</td>\n",
       "      <td>fwd</td>\n",
       "      <td>front</td>\n",
       "      <td>105.8</td>\n",
       "      <td>...</td>\n",
       "      <td>3.40</td>\n",
       "      <td>8.5</td>\n",
       "      <td>110</td>\n",
       "      <td>5500</td>\n",
       "      <td>19</td>\n",
       "      <td>25</td>\n",
       "      <td>18920</td>\n",
       "      <td>medium</td>\n",
       "      <td>0</td>\n",
       "      <td>1</td>\n",
       "    </tr>\n",
       "    <tr>\n",
       "      <td>8</td>\n",
       "      <td>1</td>\n",
       "      <td>158.00</td>\n",
       "      <td>audi</td>\n",
       "      <td>gas</td>\n",
       "      <td>turbo</td>\n",
       "      <td>four</td>\n",
       "      <td>sedan</td>\n",
       "      <td>fwd</td>\n",
       "      <td>front</td>\n",
       "      <td>105.8</td>\n",
       "      <td>...</td>\n",
       "      <td>3.40</td>\n",
       "      <td>8.3</td>\n",
       "      <td>140</td>\n",
       "      <td>5500</td>\n",
       "      <td>17</td>\n",
       "      <td>20</td>\n",
       "      <td>23875</td>\n",
       "      <td>medium</td>\n",
       "      <td>0</td>\n",
       "      <td>1</td>\n",
       "    </tr>\n",
       "    <tr>\n",
       "      <td>9</td>\n",
       "      <td>2</td>\n",
       "      <td>192.00</td>\n",
       "      <td>bmw</td>\n",
       "      <td>gas</td>\n",
       "      <td>std</td>\n",
       "      <td>two</td>\n",
       "      <td>sedan</td>\n",
       "      <td>rwd</td>\n",
       "      <td>front</td>\n",
       "      <td>101.2</td>\n",
       "      <td>...</td>\n",
       "      <td>2.80</td>\n",
       "      <td>8.8</td>\n",
       "      <td>101</td>\n",
       "      <td>5800</td>\n",
       "      <td>23</td>\n",
       "      <td>29</td>\n",
       "      <td>16430</td>\n",
       "      <td>low</td>\n",
       "      <td>0</td>\n",
       "      <td>1</td>\n",
       "    </tr>\n",
       "  </tbody>\n",
       "</table>\n",
       "<p>10 rows × 29 columns</p>\n",
       "</div>"
      ],
      "text/plain": [
       "   symboling  normalized-losses         make fuel-type aspiration  \\\n",
       "0          3              99.54  alfa-romero       gas        std   \n",
       "1          3              99.54  alfa-romero       gas        std   \n",
       "2          1              99.54  alfa-romero       gas        std   \n",
       "3          2             164.00         audi       gas        std   \n",
       "4          2             164.00         audi       gas        std   \n",
       "5          2              99.54         audi       gas        std   \n",
       "6          1             158.00         audi       gas        std   \n",
       "7          1              99.54         audi       gas        std   \n",
       "8          1             158.00         audi       gas      turbo   \n",
       "9          2             192.00          bmw       gas        std   \n",
       "\n",
       "  num-of-doors   body-style drive-wheels engine-location  wheel-base  ...  \\\n",
       "0          two  convertible          rwd           front        88.6  ...   \n",
       "1          two  convertible          rwd           front        88.6  ...   \n",
       "2          two    hatchback          rwd           front        94.5  ...   \n",
       "3         four        sedan          fwd           front        99.8  ...   \n",
       "4         four        sedan          4wd           front        99.4  ...   \n",
       "5          two        sedan          fwd           front        99.8  ...   \n",
       "6         four        sedan          fwd           front       105.8  ...   \n",
       "7         four        wagon          fwd           front       105.8  ...   \n",
       "8         four        sedan          fwd           front       105.8  ...   \n",
       "9          two        sedan          rwd           front       101.2  ...   \n",
       "\n",
       "   stroke  compression-ratio  horsepower  peak-rpm city-mpg highway-mpg  \\\n",
       "0    2.68                9.0         111      5000       21          27   \n",
       "1    2.68                9.0         111      5000       21          27   \n",
       "2    3.47                9.0         154      5000       19          26   \n",
       "3    3.40               10.0         102      5500       24          30   \n",
       "4    3.40                8.0         115      5500       18          22   \n",
       "5    3.40                8.5         110      5500       19          25   \n",
       "6    3.40                8.5         110      5500       19          25   \n",
       "7    3.40                8.5         110      5500       19          25   \n",
       "8    3.40                8.3         140      5500       17          20   \n",
       "9    2.80                8.8         101      5800       23          29   \n",
       "\n",
       "   price price-binned diesel gas  \n",
       "0  13495          low      0   1  \n",
       "1  16500          low      0   1  \n",
       "2  16500          low      0   1  \n",
       "3  13950          low      0   1  \n",
       "4  17450          low      0   1  \n",
       "5  15250          low      0   1  \n",
       "6  17710          low      0   1  \n",
       "7  18920       medium      0   1  \n",
       "8  23875       medium      0   1  \n",
       "9  16430          low      0   1  \n",
       "\n",
       "[10 rows x 29 columns]"
      ]
     },
     "execution_count": 3,
     "metadata": {},
     "output_type": "execute_result"
    }
   ],
   "source": [
    "df = pd.read_csv(\"C:/Users/Jay Rao/Desktop/IBM Data analysis with Python/automobiles_fuel_dummies.csv\")\n",
    "df = df.drop(df.columns[[0]],axis = 1)\n",
    "df.head(10)"
   ]
  },
  {
   "cell_type": "code",
   "execution_count": 94,
   "metadata": {
    "scrolled": true
   },
   "outputs": [
    {
     "data": {
      "text/plain": [
       "symboling              int64\n",
       "normalized-losses    float64\n",
       "make                  object\n",
       "fuel-type             object\n",
       "aspiration            object\n",
       "num-of-doors          object\n",
       "body-style            object\n",
       "drive-wheels          object\n",
       "engine-location       object\n",
       "wheel-base           float64\n",
       "length               float64\n",
       "width                float64\n",
       "height               float64\n",
       "curb-weight            int64\n",
       "engine-type           object\n",
       "num-of-cylinders      object\n",
       "engine-size            int64\n",
       "fuel-system           object\n",
       "bore                  object\n",
       "stroke                object\n",
       "compression-ratio    float64\n",
       "horsepower             int64\n",
       "peak-rpm              object\n",
       "city-mpg               int64\n",
       "highway-mpg            int64\n",
       "price                  int64\n",
       "price-binned          object\n",
       "diesel                 int64\n",
       "gas                    int64\n",
       "dtype: object"
      ]
     },
     "execution_count": 94,
     "metadata": {},
     "output_type": "execute_result"
    }
   ],
   "source": [
    "df.dtypes"
   ]
  },
  {
   "cell_type": "code",
   "execution_count": 93,
   "metadata": {},
   "outputs": [],
   "source": [
    "df['horsepower'] = df['horsepower'].replace('?',0)\n",
    "df['horsepower'] = df['horsepower'].astype('int64')"
   ]
  },
  {
   "cell_type": "markdown",
   "metadata": {},
   "source": [
    "### 1. Model to predict the price of the car based on highway-mpg"
   ]
  },
  {
   "cell_type": "code",
   "execution_count": 35,
   "metadata": {},
   "outputs": [],
   "source": [
    "from sklearn.linear_model import LinearRegression "
   ]
  },
  {
   "cell_type": "markdown",
   "metadata": {},
   "source": [
    "### Creating linear regression object"
   ]
  },
  {
   "cell_type": "code",
   "execution_count": 9,
   "metadata": {},
   "outputs": [],
   "source": [
    "\n",
    "lm = LinearRegression()"
   ]
  },
  {
   "cell_type": "markdown",
   "metadata": {},
   "source": [
    "### Creating a fit"
   ]
  },
  {
   "cell_type": "code",
   "execution_count": 70,
   "metadata": {},
   "outputs": [],
   "source": [
    "fit = lm.fit(df[['highway-mpg']],df[['price']])"
   ]
  },
  {
   "cell_type": "code",
   "execution_count": 71,
   "metadata": {},
   "outputs": [
    {
     "name": "stdout",
     "output_type": "stream",
     "text": [
      "Intercept :  [38423.30585816] Quantifier/slope for highway mpg :  [[-821.73337832]]\n"
     ]
    }
   ],
   "source": [
    "print(\"Intercept : \",lm.intercept_,\"Quantifier/slope for highway mpg : \", lm.coef_ )"
   ]
  },
  {
   "cell_type": "markdown",
   "metadata": {},
   "source": [
    "### Predicting the prices using the fit"
   ]
  },
  {
   "cell_type": "code",
   "execution_count": 78,
   "metadata": {},
   "outputs": [],
   "source": [
    "yhat = lm.predict(df[['highway-mpg']])"
   ]
  },
  {
   "cell_type": "markdown",
   "metadata": {},
   "source": [
    "### Predicted prices array is as follows"
   ]
  },
  {
   "cell_type": "code",
   "execution_count": 79,
   "metadata": {},
   "outputs": [
    {
     "data": {
      "text/plain": [
       "array([[16236.5 ],\n",
       "       [16236.5 ],\n",
       "       [17058.24],\n",
       "       [13771.3 ],\n",
       "       [20345.17],\n",
       "       [17879.97],\n",
       "       [17879.97],\n",
       "       [17879.97],\n",
       "       [21988.64],\n",
       "       [14593.04],\n",
       "       [14593.04],\n",
       "       [15414.77],\n",
       "       [15414.77],\n",
       "       [17879.97],\n",
       "       [20345.17],\n",
       "       [20345.17],\n",
       "       [21988.64],\n",
       "       [-5128.56],\n",
       "       [ 3088.77],\n",
       "       [ 3088.77],\n",
       "       [ 4732.24],\n",
       "       [ 7197.44],\n",
       "       [13771.3 ],\n",
       "       [ 7197.44],\n",
       "       [ 7197.44],\n",
       "       [ 7197.44],\n",
       "       [13771.3 ],\n",
       "       [13771.3 ],\n",
       "       [18701.7 ],\n",
       "       [-5950.3 ],\n",
       "       [ 7197.44],\n",
       "       [ 3910.5 ],\n",
       "       [10484.37],\n",
       "       [10484.37],\n",
       "       [10484.37],\n",
       "       [10484.37],\n",
       "       [11306.1 ],\n",
       "       [11306.1 ],\n",
       "       [11306.1 ],\n",
       "       [11306.1 ],\n",
       "       [15414.77],\n",
       "       [12949.57],\n",
       "       [14593.04],\n",
       "       [14593.04],\n",
       "       [22810.37],\n",
       "       [22810.37],\n",
       "       [24453.84],\n",
       "       [12949.57],\n",
       "       [ 7197.44],\n",
       "       [ 7197.44],\n",
       "       [ 7197.44],\n",
       "       [ 7197.44],\n",
       "       [19523.44],\n",
       "       [19523.44],\n",
       "       [19523.44],\n",
       "       [19523.44],\n",
       "       [12127.84],\n",
       "       [12127.84],\n",
       "       [12127.84],\n",
       "       [12127.84],\n",
       "       [ 3910.5 ],\n",
       "       [12127.84],\n",
       "       [16236.5 ],\n",
       "       [ 6375.7 ],\n",
       "       [17879.97],\n",
       "       [17879.97],\n",
       "       [17879.97],\n",
       "       [17879.97],\n",
       "       [23632.11],\n",
       "       [23632.11],\n",
       "       [25275.57],\n",
       "       [25275.57],\n",
       "       [18701.7 ],\n",
       "       [ 4732.24],\n",
       "       [ 7197.44],\n",
       "       [ 7197.44],\n",
       "       [13771.3 ],\n",
       "       [13771.3 ],\n",
       "       [12127.84],\n",
       "       [18701.7 ],\n",
       "       [18701.7 ],\n",
       "       [18701.7 ],\n",
       "       [12127.84],\n",
       "       [12127.84],\n",
       "       [13771.3 ],\n",
       "       [13771.3 ],\n",
       "       [ 8019.17],\n",
       "       [-2663.36],\n",
       "       [ 8019.17],\n",
       "       [ 8019.17],\n",
       "       [ 8019.17],\n",
       "       [ 8019.17],\n",
       "       [ 8019.17],\n",
       "       [ 8019.17],\n",
       "       [ 8019.17],\n",
       "       [ 8019.17],\n",
       "       [10484.37],\n",
       "       [10484.37],\n",
       "       [20345.17],\n",
       "       [20345.17],\n",
       "       [17879.97],\n",
       "       [17879.97],\n",
       "       [19523.44],\n",
       "       [17879.97],\n",
       "       [18701.7 ],\n",
       "       [11306.1 ],\n",
       "       [18701.7 ],\n",
       "       [17879.97],\n",
       "       [18701.7 ],\n",
       "       [11306.1 ],\n",
       "       [18701.7 ],\n",
       "       [17879.97],\n",
       "       [18701.7 ],\n",
       "       [11306.1 ],\n",
       "       [18701.7 ],\n",
       "       [ 4732.24],\n",
       "       [13771.3 ],\n",
       "       [ 7197.44],\n",
       "       [ 7197.44],\n",
       "       [ 7197.44],\n",
       "       [13771.3 ],\n",
       "       [18701.7 ],\n",
       "       [16236.5 ],\n",
       "       [17879.97],\n",
       "       [17879.97],\n",
       "       [17879.97],\n",
       "       [12949.57],\n",
       "       [12949.57],\n",
       "       [15414.77],\n",
       "       [15414.77],\n",
       "       [15414.77],\n",
       "       [15414.77],\n",
       "       [17058.24],\n",
       "       [17058.24],\n",
       "       [ 8840.9 ],\n",
       "       [12949.57],\n",
       "       [12949.57],\n",
       "       [ 8019.17],\n",
       "       [11306.1 ],\n",
       "       [12127.84],\n",
       "       [17879.97],\n",
       "       [14593.04],\n",
       "       [12127.84],\n",
       "       [12949.57],\n",
       "       [14593.04],\n",
       "       [19523.44],\n",
       "       [ 6375.7 ],\n",
       "       [ 7197.44],\n",
       "       [ 7197.44],\n",
       "       [ 8019.17],\n",
       "       [12127.84],\n",
       "       [12127.84],\n",
       "       [ 8019.17],\n",
       "       [ 8019.17],\n",
       "       [ 8840.9 ],\n",
       "       [ -198.16],\n",
       "       [ -198.16],\n",
       "       [10484.37],\n",
       "       [10484.37],\n",
       "       [10484.37],\n",
       "       [10484.37],\n",
       "       [14593.04],\n",
       "       [14593.04],\n",
       "       [13771.3 ],\n",
       "       [13771.3 ],\n",
       "       [13771.3 ],\n",
       "       [13771.3 ],\n",
       "       [13771.3 ],\n",
       "       [13771.3 ],\n",
       "       [10484.37],\n",
       "       [11306.1 ],\n",
       "       [12127.84],\n",
       "       [12127.84],\n",
       "       [12127.84],\n",
       "       [18701.7 ],\n",
       "       [18701.7 ],\n",
       "       [18701.7 ],\n",
       "       [18701.7 ],\n",
       "       [  623.57],\n",
       "       [10484.37],\n",
       "       [  623.57],\n",
       "       [10484.37],\n",
       "       [10484.37],\n",
       "       [ 3910.5 ],\n",
       "       [12127.84],\n",
       "       [14593.04],\n",
       "       [14593.04],\n",
       "       [18701.7 ],\n",
       "       [ 7197.44],\n",
       "       [12949.57],\n",
       "       [15414.77],\n",
       "       [15414.77],\n",
       "       [15414.77],\n",
       "       [15414.77],\n",
       "       [20345.17],\n",
       "       [20345.17],\n",
       "       [15414.77],\n",
       "       [17879.97],\n",
       "       [19523.44],\n",
       "       [16236.5 ],\n",
       "       [17879.97]])"
      ]
     },
     "execution_count": 79,
     "metadata": {},
     "output_type": "execute_result"
    }
   ],
   "source": [
    "yhat.round(2)"
   ]
  },
  {
   "cell_type": "markdown",
   "metadata": {},
   "source": [
    "# Creating fit using Ordinary Least square estimates for linear regression"
   ]
  },
  {
   "cell_type": "code",
   "execution_count": 42,
   "metadata": {},
   "outputs": [],
   "source": [
    "import statsmodels.api as sm"
   ]
  },
  {
   "cell_type": "code",
   "execution_count": 43,
   "metadata": {},
   "outputs": [],
   "source": [
    "stats = sm.OLS(df[['price']],df[['highway-mpg']])"
   ]
  },
  {
   "cell_type": "code",
   "execution_count": 44,
   "metadata": {},
   "outputs": [],
   "source": [
    "statsfit = stats.fit()"
   ]
  },
  {
   "cell_type": "markdown",
   "metadata": {},
   "source": [
    "### Summary of the model"
   ]
  },
  {
   "cell_type": "code",
   "execution_count": 45,
   "metadata": {},
   "outputs": [
    {
     "data": {
      "text/html": [
       "<table class=\"simpletable\">\n",
       "<caption>OLS Regression Results</caption>\n",
       "<tr>\n",
       "  <th>Dep. Variable:</th>          <td>price</td>      <th>  R-squared (uncentered):</th>      <td>   0.576</td>\n",
       "</tr>\n",
       "<tr>\n",
       "  <th>Model:</th>                   <td>OLS</td>       <th>  Adj. R-squared (uncentered):</th> <td>   0.573</td>\n",
       "</tr>\n",
       "<tr>\n",
       "  <th>Method:</th>             <td>Least Squares</td>  <th>  F-statistic:       </th>          <td>   271.2</td>\n",
       "</tr>\n",
       "<tr>\n",
       "  <th>Date:</th>             <td>Tue, 23 Jun 2020</td> <th>  Prob (F-statistic):</th>          <td>4.45e-39</td>\n",
       "</tr>\n",
       "<tr>\n",
       "  <th>Time:</th>                 <td>13:00:27</td>     <th>  Log-Likelihood:    </th>          <td> -2137.2</td>\n",
       "</tr>\n",
       "<tr>\n",
       "  <th>No. Observations:</th>      <td>   201</td>      <th>  AIC:               </th>          <td>   4276.</td>\n",
       "</tr>\n",
       "<tr>\n",
       "  <th>Df Residuals:</th>          <td>   200</td>      <th>  BIC:               </th>          <td>   4280.</td>\n",
       "</tr>\n",
       "<tr>\n",
       "  <th>Df Model:</th>              <td>     1</td>      <th>                     </th>              <td> </td>   \n",
       "</tr>\n",
       "<tr>\n",
       "  <th>Covariance Type:</th>      <td>nonrobust</td>    <th>                     </th>              <td> </td>   \n",
       "</tr>\n",
       "</table>\n",
       "<table class=\"simpletable\">\n",
       "<tr>\n",
       "       <td></td>          <th>coef</th>     <th>std err</th>      <th>t</th>      <th>P>|t|</th>  <th>[0.025</th>    <th>0.975]</th>  \n",
       "</tr>\n",
       "<tr>\n",
       "  <th>highway-mpg</th> <td>  371.8110</td> <td>   22.576</td> <td>   16.469</td> <td> 0.000</td> <td>  327.293</td> <td>  416.329</td>\n",
       "</tr>\n",
       "</table>\n",
       "<table class=\"simpletable\">\n",
       "<tr>\n",
       "  <th>Omnibus:</th>       <td>53.375</td> <th>  Durbin-Watson:     </th> <td>   0.505</td>\n",
       "</tr>\n",
       "<tr>\n",
       "  <th>Prob(Omnibus):</th> <td> 0.000</td> <th>  Jarque-Bera (JB):  </th> <td>  94.211</td>\n",
       "</tr>\n",
       "<tr>\n",
       "  <th>Skew:</th>          <td> 1.365</td> <th>  Prob(JB):          </th> <td>3.49e-21</td>\n",
       "</tr>\n",
       "<tr>\n",
       "  <th>Kurtosis:</th>      <td> 4.947</td> <th>  Cond. No.          </th> <td>    1.00</td>\n",
       "</tr>\n",
       "</table><br/><br/>Warnings:<br/>[1] Standard Errors assume that the covariance matrix of the errors is correctly specified."
      ],
      "text/plain": [
       "<class 'statsmodels.iolib.summary.Summary'>\n",
       "\"\"\"\n",
       "                                 OLS Regression Results                                \n",
       "=======================================================================================\n",
       "Dep. Variable:                  price   R-squared (uncentered):                   0.576\n",
       "Model:                            OLS   Adj. R-squared (uncentered):              0.573\n",
       "Method:                 Least Squares   F-statistic:                              271.2\n",
       "Date:                Tue, 23 Jun 2020   Prob (F-statistic):                    4.45e-39\n",
       "Time:                        13:00:27   Log-Likelihood:                         -2137.2\n",
       "No. Observations:                 201   AIC:                                      4276.\n",
       "Df Residuals:                     200   BIC:                                      4280.\n",
       "Df Model:                           1                                                  \n",
       "Covariance Type:            nonrobust                                                  \n",
       "===============================================================================\n",
       "                  coef    std err          t      P>|t|      [0.025      0.975]\n",
       "-------------------------------------------------------------------------------\n",
       "highway-mpg   371.8110     22.576     16.469      0.000     327.293     416.329\n",
       "==============================================================================\n",
       "Omnibus:                       53.375   Durbin-Watson:                   0.505\n",
       "Prob(Omnibus):                  0.000   Jarque-Bera (JB):               94.211\n",
       "Skew:                           1.365   Prob(JB):                     3.49e-21\n",
       "Kurtosis:                       4.947   Cond. No.                         1.00\n",
       "==============================================================================\n",
       "\n",
       "Warnings:\n",
       "[1] Standard Errors assume that the covariance matrix of the errors is correctly specified.\n",
       "\"\"\""
      ]
     },
     "execution_count": 45,
     "metadata": {},
     "output_type": "execute_result"
    }
   ],
   "source": [
    "statsfit.summary()"
   ]
  },
  {
   "cell_type": "code",
   "execution_count": 80,
   "metadata": {},
   "outputs": [
    {
     "data": {
      "text/plain": [
       "0      10038.90\n",
       "1      10038.90\n",
       "2       9667.09\n",
       "3      11154.33\n",
       "4       8179.84\n",
       "         ...   \n",
       "196    10410.71\n",
       "197     9295.28\n",
       "198     8551.65\n",
       "199    10038.90\n",
       "200     9295.28\n",
       "Length: 201, dtype: float64"
      ]
     },
     "execution_count": 80,
     "metadata": {},
     "output_type": "execute_result"
    }
   ],
   "source": [
    "yhat1 = statsfit.predict(df[['highway-mpg']])\n",
    "yhat1.round(2)"
   ]
  },
  {
   "cell_type": "markdown",
   "metadata": {},
   "source": [
    "### Which predictions are closer to the actual values ? Simple linear model or the Oridinary Least squared estimates ? "
   ]
  },
  {
   "cell_type": "code",
   "execution_count": 86,
   "metadata": {},
   "outputs": [],
   "source": [
    "import seaborn as sb\n"
   ]
  },
  {
   "cell_type": "markdown",
   "metadata": {},
   "source": [
    "### Plotting distribution of predicted values from simple linear regression model with actual values in data frame"
   ]
  },
  {
   "cell_type": "code",
   "execution_count": 87,
   "metadata": {},
   "outputs": [
    {
     "data": {
      "text/plain": [
       "<matplotlib.axes._subplots.AxesSubplot at 0x19c20b9fe88>"
      ]
     },
     "execution_count": 87,
     "metadata": {},
     "output_type": "execute_result"
    },
    {
     "data": {
      "image/png": "[encoded data removed]",
      "text/plain": [
       "<Figure size 432x288 with 1 Axes>"
      ]
     },
     "metadata": {},
     "output_type": "display_data"
    }
   ],
   "source": [
    "sb.distplot(yhat, hist = False, color='b', label = 'Predicted Prices', ax = sb.distplot(df['price'],hist = False, color='r', label = 'Actual Prices'))"
   ]
  },
  {
   "cell_type": "markdown",
   "metadata": {},
   "source": [
    "### Plotting distribution of predicted values from Ordinary Least squared estimates with actual values in data frame"
   ]
  },
  {
   "cell_type": "code",
   "execution_count": 91,
   "metadata": {},
   "outputs": [
    {
     "data": {
      "text/plain": [
       "<matplotlib.axes._subplots.AxesSubplot at 0x19c1f8a65c8>"
      ]
     },
     "execution_count": 91,
     "metadata": {},
     "output_type": "execute_result"
    },
    {
     "data": {
      "image/png": "[encoded data removed]",
      "text/plain": [
       "<Figure size 432x288 with 1 Axes>"
      ]
     },
     "metadata": {},
     "output_type": "display_data"
    }
   ],
   "source": [
    "sb.distplot(yhat1 , hist = False , color ='b' , label = 'Predicted Prices' , ax = sb.distplot(df[['price']] , hist = False , color = 'r' , label = 'Actual Prices'))"
   ]
  },
  {
   "cell_type": "markdown",
   "metadata": {},
   "source": [
    "# As you can see above our model is not a good predictor for prices\n",
    "### So we add some more parameters like 'horsepower','curb-weight','engine-size','highway-mpg'"
   ]
  },
  {
   "cell_type": "code",
   "execution_count": 95,
   "metadata": {},
   "outputs": [],
   "source": [
    "stats1 = sm.OLS(df[['price']],df[['horsepower','curb-weight','engine-size','highway-mpg']])"
   ]
  },
  {
   "cell_type": "code",
   "execution_count": 96,
   "metadata": {},
   "outputs": [],
   "source": [
    "statsfit1 = stats1.fit()"
   ]
  },
  {
   "cell_type": "code",
   "execution_count": 97,
   "metadata": {},
   "outputs": [
    {
     "data": {
      "text/html": [
       "<table class=\"simpletable\">\n",
       "<caption>OLS Regression Results</caption>\n",
       "<tr>\n",
       "  <th>Dep. Variable:</th>          <td>price</td>      <th>  R-squared (uncentered):</th>      <td>   0.947</td> \n",
       "</tr>\n",
       "<tr>\n",
       "  <th>Model:</th>                   <td>OLS</td>       <th>  Adj. R-squared (uncentered):</th> <td>   0.946</td> \n",
       "</tr>\n",
       "<tr>\n",
       "  <th>Method:</th>             <td>Least Squares</td>  <th>  F-statistic:       </th>          <td>   876.4</td> \n",
       "</tr>\n",
       "<tr>\n",
       "  <th>Date:</th>             <td>Tue, 23 Jun 2020</td> <th>  Prob (F-statistic):</th>          <td>3.03e-124</td>\n",
       "</tr>\n",
       "<tr>\n",
       "  <th>Time:</th>                 <td>13:34:02</td>     <th>  Log-Likelihood:    </th>          <td> -1928.5</td> \n",
       "</tr>\n",
       "<tr>\n",
       "  <th>No. Observations:</th>      <td>   201</td>      <th>  AIC:               </th>          <td>   3865.</td> \n",
       "</tr>\n",
       "<tr>\n",
       "  <th>Df Residuals:</th>          <td>   197</td>      <th>  BIC:               </th>          <td>   3878.</td> \n",
       "</tr>\n",
       "<tr>\n",
       "  <th>Df Model:</th>              <td>     4</td>      <th>                     </th>              <td> </td>    \n",
       "</tr>\n",
       "<tr>\n",
       "  <th>Covariance Type:</th>      <td>nonrobust</td>    <th>                     </th>              <td> </td>    \n",
       "</tr>\n",
       "</table>\n",
       "<table class=\"simpletable\">\n",
       "<tr>\n",
       "       <td></td>          <th>coef</th>     <th>std err</th>      <th>t</th>      <th>P>|t|</th>  <th>[0.025</th>    <th>0.975]</th>  \n",
       "</tr>\n",
       "<tr>\n",
       "  <th>horsepower</th>  <td>   27.9790</td> <td>   11.268</td> <td>    2.483</td> <td> 0.014</td> <td>    5.758</td> <td>   50.200</td>\n",
       "</tr>\n",
       "<tr>\n",
       "  <th>curb-weight</th> <td>    1.6288</td> <td>    0.760</td> <td>    2.142</td> <td> 0.033</td> <td>    0.129</td> <td>    3.128</td>\n",
       "</tr>\n",
       "<tr>\n",
       "  <th>engine-size</th> <td>  101.1826</td> <td>   12.719</td> <td>    7.955</td> <td> 0.000</td> <td>   76.100</td> <td>  126.265</td>\n",
       "</tr>\n",
       "<tr>\n",
       "  <th>highway-mpg</th> <td> -215.2494</td> <td>   23.476</td> <td>   -9.169</td> <td> 0.000</td> <td> -261.547</td> <td> -168.952</td>\n",
       "</tr>\n",
       "</table>\n",
       "<table class=\"simpletable\">\n",
       "<tr>\n",
       "  <th>Omnibus:</th>       <td>21.799</td> <th>  Durbin-Watson:     </th> <td>   0.762</td>\n",
       "</tr>\n",
       "<tr>\n",
       "  <th>Prob(Omnibus):</th> <td> 0.000</td> <th>  Jarque-Bera (JB):  </th> <td>  38.061</td>\n",
       "</tr>\n",
       "<tr>\n",
       "  <th>Skew:</th>          <td> 0.577</td> <th>  Prob(JB):          </th> <td>5.43e-09</td>\n",
       "</tr>\n",
       "<tr>\n",
       "  <th>Kurtosis:</th>      <td> 4.792</td> <th>  Cond. No.          </th> <td>    246.</td>\n",
       "</tr>\n",
       "</table><br/><br/>Warnings:<br/>[1] Standard Errors assume that the covariance matrix of the errors is correctly specified."
      ],
      "text/plain": [
       "<class 'statsmodels.iolib.summary.Summary'>\n",
       "\"\"\"\n",
       "                                 OLS Regression Results                                \n",
       "=======================================================================================\n",
       "Dep. Variable:                  price   R-squared (uncentered):                   0.947\n",
       "Model:                            OLS   Adj. R-squared (uncentered):              0.946\n",
       "Method:                 Least Squares   F-statistic:                              876.4\n",
       "Date:                Tue, 23 Jun 2020   Prob (F-statistic):                   3.03e-124\n",
       "Time:                        13:34:02   Log-Likelihood:                         -1928.5\n",
       "No. Observations:                 201   AIC:                                      3865.\n",
       "Df Residuals:                     197   BIC:                                      3878.\n",
       "Df Model:                           4                                                  \n",
       "Covariance Type:            nonrobust                                                  \n",
       "===============================================================================\n",
       "                  coef    std err          t      P>|t|      [0.025      0.975]\n",
       "-------------------------------------------------------------------------------\n",
       "horsepower     27.9790     11.268      2.483      0.014       5.758      50.200\n",
       "curb-weight     1.6288      0.760      2.142      0.033       0.129       3.128\n",
       "engine-size   101.1826     12.719      7.955      0.000      76.100     126.265\n",
       "highway-mpg  -215.2494     23.476     -9.169      0.000    -261.547    -168.952\n",
       "==============================================================================\n",
       "Omnibus:                       21.799   Durbin-Watson:                   0.762\n",
       "Prob(Omnibus):                  0.000   Jarque-Bera (JB):               38.061\n",
       "Skew:                           0.577   Prob(JB):                     5.43e-09\n",
       "Kurtosis:                       4.792   Cond. No.                         246.\n",
       "==============================================================================\n",
       "\n",
       "Warnings:\n",
       "[1] Standard Errors assume that the covariance matrix of the errors is correctly specified.\n",
       "\"\"\""
      ]
     },
     "execution_count": 97,
     "metadata": {},
     "output_type": "execute_result"
    }
   ],
   "source": [
    "statsfit1.summary()"
   ]
  },
  {
   "cell_type": "code",
   "execution_count": 98,
   "metadata": {},
   "outputs": [
    {
     "data": {
      "text/plain": [
       "0      14597.916281\n",
       "1      14597.916281\n",
       "2      18690.206599\n",
       "3      11231.840352\n",
       "4      16842.730324\n",
       "           ...     \n",
       "196    16237.657247\n",
       "197    18328.435282\n",
       "198    21209.057477\n",
       "199    17065.443327\n",
       "200    17062.576081\n",
       "Length: 201, dtype: float64"
      ]
     },
     "execution_count": 98,
     "metadata": {},
     "output_type": "execute_result"
    }
   ],
   "source": [
    "yhat2 = statsfit1.predict(df[['horsepower','curb-weight','engine-size','highway-mpg']])\n",
    "yhat2"
   ]
  },
  {
   "cell_type": "markdown",
   "metadata": {},
   "source": [
    "### Now Let us check how close our predicted price values are to the actual values"
   ]
  },
  {
   "cell_type": "code",
   "execution_count": 99,
   "metadata": {},
   "outputs": [
    {
     "data": {
      "text/plain": [
       "<matplotlib.axes._subplots.AxesSubplot at 0x19c20d3b0c8>"
      ]
     },
     "execution_count": 99,
     "metadata": {},
     "output_type": "execute_result"
    },
    {
     "data": {
      "image/png": "[encoded data removed]",
      "text/plain": [
       "<Figure size 432x288 with 1 Axes>"
      ]
     },
     "metadata": {},
     "output_type": "display_data"
    }
   ],
   "source": [
    "sb.distplot(yhat2 , color = 'b' , hist = False , label = 'Predicted Prices' , ax = sb.distplot(df[['price']] , hist = False, color = 'r' , label = 'Actual Prices'))"
   ]
  },
  {
   "cell_type": "markdown",
   "metadata": {},
   "source": [
    "### Now we use the above predictors for simple regression model"
   ]
  },
  {
   "cell_type": "code",
   "execution_count": 102,
   "metadata": {},
   "outputs": [],
   "source": [
    "fit1 = lm.fit( df[['horsepower','curb-weight','engine-size','highway-mpg']],df[['price']])"
   ]
  },
  {
   "cell_type": "code",
   "execution_count": 103,
   "metadata": {},
   "outputs": [
    {
     "data": {
      "text/plain": [
       "array([[13776.82657166],\n",
       "       [13776.82657166],\n",
       "       [18988.41856129],\n",
       "       [10655.44596409],\n",
       "       [15632.04983526],\n",
       "       [14004.03019369],\n",
       "       [15546.48617711],\n",
       "       [16049.95845656],\n",
       "       [17587.24632653],\n",
       "       [10764.32330934],\n",
       "       [10764.32330934],\n",
       "       [17917.08776706],\n",
       "       [18168.82390679],\n",
       "       [19428.11107202],\n",
       "       [26971.34107335],\n",
       "       [27657.8941817 ],\n",
       "       [28184.65587582],\n",
       "       [  569.54806551],\n",
       "       [ 5649.53484825],\n",
       "       [ 5809.73057353],\n",
       "       [ 5515.2618268 ],\n",
       "       [ 5447.21298256],\n",
       "       [ 8765.20905598],\n",
       "       [ 5863.72186829],\n",
       "       [ 5964.41632418],\n",
       "       [ 5964.41632418],\n",
       "       [ 9053.56136149],\n",
       "       [11978.66012751],\n",
       "       [18786.35846694],\n",
       "       [ 4743.53259083],\n",
       "       [ 5748.32011872],\n",
       "       [ 4033.55672263],\n",
       "       [ 6211.4078338 ],\n",
       "       [ 6284.64016535],\n",
       "       [ 6531.79928436],\n",
       "       [ 6595.87757447],\n",
       "       [ 9561.6027067 ],\n",
       "       [ 9804.18480499],\n",
       "       [ 9872.84011582],\n",
       "       [10184.07752494],\n",
       "       [11231.78446221],\n",
       "       [10463.55515885],\n",
       "       [ 9625.7816656 ],\n",
       "       [12710.23649432],\n",
       "       [34594.43798733],\n",
       "       [34594.43798733],\n",
       "       [44006.35797021],\n",
       "       [ 5437.38696131],\n",
       "       [ 5641.93780509],\n",
       "       [ 5664.82290871],\n",
       "       [ 5847.9037376 ],\n",
       "       [ 5870.78884121],\n",
       "       [ 7334.2699526 ],\n",
       "       [ 7334.2699526 ],\n",
       "       [ 7357.15505622],\n",
       "       [10399.31552571],\n",
       "       [11141.35058186],\n",
       "       [11255.77609991],\n",
       "       [11141.35058186],\n",
       "       [11255.77609991],\n",
       "       [10653.03559721],\n",
       "       [11324.43141075],\n",
       "       [15625.26160204],\n",
       "       [13172.04164789],\n",
       "       [23244.25194972],\n",
       "       [24319.85181947],\n",
       "       [23152.71153528],\n",
       "       [24411.39223391],\n",
       "       [30012.97222838],\n",
       "       [29761.23608866],\n",
       "       [38402.66462989],\n",
       "       [37216.41049548],\n",
       "       [19352.37981633],\n",
       "       [ 5877.24934753],\n",
       "       [ 5928.20304207],\n",
       "       [ 6202.82428541],\n",
       "       [ 8843.01840826],\n",
       "       [11577.79214026],\n",
       "       [11076.58273415],\n",
       "       [18887.05292283],\n",
       "       [19289.83074639],\n",
       "       [19312.71585   ],\n",
       "       [11245.93250088],\n",
       "       [11429.01332977],\n",
       "       [11728.83382409],\n",
       "       [11728.83382409],\n",
       "       [ 6127.19616361],\n",
       "       [ 6830.76292514],\n",
       "       [ 6259.92976455],\n",
       "       [ 6351.470179  ],\n",
       "       [ 6745.09396112],\n",
       "       [ 6410.97144839],\n",
       "       [ 6763.40204401],\n",
       "       [ 6502.51186284],\n",
       "       [ 6804.59523051],\n",
       "       [ 6671.86162956],\n",
       "       [11375.16314734],\n",
       "       [11274.46869144],\n",
       "       [22505.98866936],\n",
       "       [23425.96983455],\n",
       "       [22413.84178832],\n",
       "       [22856.4336832 ],\n",
       "       [25083.52853084],\n",
       "       [23167.67109232],\n",
       "       [14333.94008926],\n",
       "       [17966.20052934],\n",
       "       [15295.11444094],\n",
       "       [18851.182773  ],\n",
       "       [14487.61506225],\n",
       "       [18217.93666907],\n",
       "       [15448.78941394],\n",
       "       [19102.91891273],\n",
       "       [14585.67622899],\n",
       "       [18217.93666907],\n",
       "       [18232.05717296],\n",
       "       [ 5707.49669714],\n",
       "       [ 8765.20905598],\n",
       "       [ 5863.72186829],\n",
       "       [ 5964.41632418],\n",
       "       [ 7567.98511165],\n",
       "       [11978.66012751],\n",
       "       [18818.39761199],\n",
       "       [18180.92283463],\n",
       "       [24822.50180146],\n",
       "       [24822.50180146],\n",
       "       [25023.89071324],\n",
       "       [ 8736.80390304],\n",
       "       [ 8192.13843709],\n",
       "       [13490.06428907],\n",
       "       [13659.41405579],\n",
       "       [13714.33830446],\n",
       "       [13947.7663613 ],\n",
       "       [16582.7806696 ],\n",
       "       [16761.28447777],\n",
       "       [ 6841.41355182],\n",
       "       [ 8178.1521726 ],\n",
       "       [ 8727.39465927],\n",
       "       [ 8869.95062944],\n",
       "       [ 8985.18476962],\n",
       "       [10237.42193029],\n",
       "       [ 9696.24022583],\n",
       "       [11780.98652608],\n",
       "       [ 9420.20389377],\n",
       "       [10741.09636527],\n",
       "       [ 9947.16774343],\n",
       "       [12285.67173872],\n",
       "       [ 5844.36033956],\n",
       "       [ 6073.41353121],\n",
       "       [ 5958.98801315],\n",
       "       [ 7149.21555648],\n",
       "       [ 7081.57102331],\n",
       "       [10834.7280156 ],\n",
       "       [ 7139.89105085],\n",
       "       [ 7268.04763108],\n",
       "       [ 8337.23785811],\n",
       "       [ 8586.75028699],\n",
       "       [ 7426.22180104],\n",
       "       [ 7259.50005623],\n",
       "       [ 7341.88642923],\n",
       "       [ 7474.62003018],\n",
       "       [ 7634.81575546],\n",
       "       [ 9859.88378052],\n",
       "       [10020.07950581],\n",
       "       [15411.43337008],\n",
       "       [15393.12528719],\n",
       "       [15461.78059803],\n",
       "       [16047.63925048],\n",
       "       [16207.83497576],\n",
       "       [17402.43738428],\n",
       "       [11308.91692234],\n",
       "       [10040.99817918],\n",
       "       [11666.32884974],\n",
       "       [11666.32884974],\n",
       "       [11867.71776152],\n",
       "       [21599.20109792],\n",
       "       [21782.28192681],\n",
       "       [22063.48639304],\n",
       "       [21306.26355553],\n",
       "       [ 7200.47448779],\n",
       "       [ 9326.79918672],\n",
       "       [ 7214.20554996],\n",
       "       [ 9340.53024889],\n",
       "       [ 9628.88255439],\n",
       "       [ 8159.69923123],\n",
       "       [10433.40092679],\n",
       "       [ 9664.50329566],\n",
       "       [ 9513.46161182],\n",
       "       [14686.20843685],\n",
       "       [ 9258.99282671],\n",
       "       [11026.10742828],\n",
       "       [16546.27638991],\n",
       "       [17104.67291803],\n",
       "       [16651.54786652],\n",
       "       [17141.28908381],\n",
       "       [18438.75088196],\n",
       "       [18951.37720285],\n",
       "       [16729.3572188 ],\n",
       "       [19360.6862195 ],\n",
       "       [20587.21779533],\n",
       "       [17866.84539598],\n",
       "       [17164.78065401]])"
      ]
     },
     "execution_count": 103,
     "metadata": {},
     "output_type": "execute_result"
    }
   ],
   "source": [
    "yhat3 = lm.predict(df[['horsepower','curb-weight','engine-size','highway-mpg']])\n",
    "yhat3"
   ]
  },
  {
   "cell_type": "code",
   "execution_count": 104,
   "metadata": {},
   "outputs": [
    {
     "data": {
      "text/plain": [
       "<matplotlib.axes._subplots.AxesSubplot at 0x19c20dd4f48>"
      ]
     },
     "execution_count": 104,
     "metadata": {},
     "output_type": "execute_result"
    },
    {
     "data": {
      "image/png": "[encoded data removed]",
      "text/plain": [
       "<Figure size 432x288 with 1 Axes>"
      ]
     },
     "metadata": {},
     "output_type": "display_data"
    }
   ],
   "source": [
    "sb.distplot(yhat3 , color = 'b' , hist = False , label = 'Predicted Prices' , ax = sb.distplot(df[['price']], color = 'r', hist = False , label = \"Actual Prices\" ))"
   ]
  },
  {
   "cell_type": "markdown",
   "metadata": {},
   "source": [
    "# Conclusion : There is not much difference between using both methods for linear regression. But statsmodel api is easier to use and evaluate"
   ]
  }
 ],
 "metadata": {
  "kernelspec": {
   "display_name": "Python 3",
   "language": "python",
   "name": "python3"
  },
  "language_info": {
   "codemirror_mode": {
    "name": "ipython",
    "version": 3
   },
   "file_extension": ".py",
   "mimetype": "text/x-python",
   "name": "python",
   "nbconvert_exporter": "python",
   "pygments_lexer": "ipython3",
   "version": "3.7.4"
  }
 },
 "nbformat": 4,
 "nbformat_minor": 2
}
