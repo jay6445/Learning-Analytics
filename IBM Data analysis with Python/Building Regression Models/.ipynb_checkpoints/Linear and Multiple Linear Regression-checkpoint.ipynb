{
 "cells": [
  {
   "cell_type": "markdown",
   "metadata": {},
   "source": [
    "### Linear and Multiple Linear Regression"
   ]
  },
  {
   "cell_type": "code",
   "execution_count": 1,
   "metadata": {},
   "outputs": [],
   "source": [
    "import pandas as pd\n",
    "from sklearn.linear_model import LinearRegression "
   ]
  },
  {
   "cell_type": "code",
   "execution_count": 28,
   "metadata": {},
   "outputs": [
    {
     "data": {
      "text/html": [
       "<div>\n",
       "<style scoped>\n",
       "    .dataframe tbody tr th:only-of-type {\n",
       "        vertical-align: middle;\n",
       "    }\n",
       "\n",
       "    .dataframe tbody tr th {\n",
       "        vertical-align: top;\n",
       "    }\n",
       "\n",
       "    .dataframe thead th {\n",
       "        text-align: right;\n",
       "    }\n",
       "</style>\n",
       "<table border=\"1\" class=\"dataframe\">\n",
       "  <thead>\n",
       "    <tr style=\"text-align: right;\">\n",
       "      <th></th>\n",
       "      <th>symboling</th>\n",
       "      <th>normalized-losses</th>\n",
       "      <th>make</th>\n",
       "      <th>fuel-type</th>\n",
       "      <th>aspiration</th>\n",
       "      <th>num-of-doors</th>\n",
       "      <th>body-style</th>\n",
       "      <th>drive-wheels</th>\n",
       "      <th>engine-location</th>\n",
       "      <th>wheel-base</th>\n",
       "      <th>...</th>\n",
       "      <th>stroke</th>\n",
       "      <th>compression-ratio</th>\n",
       "      <th>horsepower</th>\n",
       "      <th>peak-rpm</th>\n",
       "      <th>city-mpg</th>\n",
       "      <th>highway-mpg</th>\n",
       "      <th>price</th>\n",
       "      <th>price-binned</th>\n",
       "      <th>diesel</th>\n",
       "      <th>gas</th>\n",
       "    </tr>\n",
       "  </thead>\n",
       "  <tbody>\n",
       "    <tr>\n",
       "      <td>0</td>\n",
       "      <td>3</td>\n",
       "      <td>99.54</td>\n",
       "      <td>alfa-romero</td>\n",
       "      <td>gas</td>\n",
       "      <td>std</td>\n",
       "      <td>two</td>\n",
       "      <td>convertible</td>\n",
       "      <td>rwd</td>\n",
       "      <td>front</td>\n",
       "      <td>88.6</td>\n",
       "      <td>...</td>\n",
       "      <td>2.68</td>\n",
       "      <td>9.0</td>\n",
       "      <td>111</td>\n",
       "      <td>5000</td>\n",
       "      <td>21</td>\n",
       "      <td>27</td>\n",
       "      <td>13495</td>\n",
       "      <td>low</td>\n",
       "      <td>0</td>\n",
       "      <td>1</td>\n",
       "    </tr>\n",
       "    <tr>\n",
       "      <td>1</td>\n",
       "      <td>3</td>\n",
       "      <td>99.54</td>\n",
       "      <td>alfa-romero</td>\n",
       "      <td>gas</td>\n",
       "      <td>std</td>\n",
       "      <td>two</td>\n",
       "      <td>convertible</td>\n",
       "      <td>rwd</td>\n",
       "      <td>front</td>\n",
       "      <td>88.6</td>\n",
       "      <td>...</td>\n",
       "      <td>2.68</td>\n",
       "      <td>9.0</td>\n",
       "      <td>111</td>\n",
       "      <td>5000</td>\n",
       "      <td>21</td>\n",
       "      <td>27</td>\n",
       "      <td>16500</td>\n",
       "      <td>low</td>\n",
       "      <td>0</td>\n",
       "      <td>1</td>\n",
       "    </tr>\n",
       "    <tr>\n",
       "      <td>2</td>\n",
       "      <td>1</td>\n",
       "      <td>99.54</td>\n",
       "      <td>alfa-romero</td>\n",
       "      <td>gas</td>\n",
       "      <td>std</td>\n",
       "      <td>two</td>\n",
       "      <td>hatchback</td>\n",
       "      <td>rwd</td>\n",
       "      <td>front</td>\n",
       "      <td>94.5</td>\n",
       "      <td>...</td>\n",
       "      <td>3.47</td>\n",
       "      <td>9.0</td>\n",
       "      <td>154</td>\n",
       "      <td>5000</td>\n",
       "      <td>19</td>\n",
       "      <td>26</td>\n",
       "      <td>16500</td>\n",
       "      <td>low</td>\n",
       "      <td>0</td>\n",
       "      <td>1</td>\n",
       "    </tr>\n",
       "    <tr>\n",
       "      <td>3</td>\n",
       "      <td>2</td>\n",
       "      <td>164.00</td>\n",
       "      <td>audi</td>\n",
       "      <td>gas</td>\n",
       "      <td>std</td>\n",
       "      <td>four</td>\n",
       "      <td>sedan</td>\n",
       "      <td>fwd</td>\n",
       "      <td>front</td>\n",
       "      <td>99.8</td>\n",
       "      <td>...</td>\n",
       "      <td>3.40</td>\n",
       "      <td>10.0</td>\n",
       "      <td>102</td>\n",
       "      <td>5500</td>\n",
       "      <td>24</td>\n",
       "      <td>30</td>\n",
       "      <td>13950</td>\n",
       "      <td>low</td>\n",
       "      <td>0</td>\n",
       "      <td>1</td>\n",
       "    </tr>\n",
       "    <tr>\n",
       "      <td>4</td>\n",
       "      <td>2</td>\n",
       "      <td>164.00</td>\n",
       "      <td>audi</td>\n",
       "      <td>gas</td>\n",
       "      <td>std</td>\n",
       "      <td>four</td>\n",
       "      <td>sedan</td>\n",
       "      <td>4wd</td>\n",
       "      <td>front</td>\n",
       "      <td>99.4</td>\n",
       "      <td>...</td>\n",
       "      <td>3.40</td>\n",
       "      <td>8.0</td>\n",
       "      <td>115</td>\n",
       "      <td>5500</td>\n",
       "      <td>18</td>\n",
       "      <td>22</td>\n",
       "      <td>17450</td>\n",
       "      <td>low</td>\n",
       "      <td>0</td>\n",
       "      <td>1</td>\n",
       "    </tr>\n",
       "    <tr>\n",
       "      <td>5</td>\n",
       "      <td>2</td>\n",
       "      <td>99.54</td>\n",
       "      <td>audi</td>\n",
       "      <td>gas</td>\n",
       "      <td>std</td>\n",
       "      <td>two</td>\n",
       "      <td>sedan</td>\n",
       "      <td>fwd</td>\n",
       "      <td>front</td>\n",
       "      <td>99.8</td>\n",
       "      <td>...</td>\n",
       "      <td>3.40</td>\n",
       "      <td>8.5</td>\n",
       "      <td>110</td>\n",
       "      <td>5500</td>\n",
       "      <td>19</td>\n",
       "      <td>25</td>\n",
       "      <td>15250</td>\n",
       "      <td>low</td>\n",
       "      <td>0</td>\n",
       "      <td>1</td>\n",
       "    </tr>\n",
       "    <tr>\n",
       "      <td>6</td>\n",
       "      <td>1</td>\n",
       "      <td>158.00</td>\n",
       "      <td>audi</td>\n",
       "      <td>gas</td>\n",
       "      <td>std</td>\n",
       "      <td>four</td>\n",
       "      <td>sedan</td>\n",
       "      <td>fwd</td>\n",
       "      <td>front</td>\n",
       "      <td>105.8</td>\n",
       "      <td>...</td>\n",
       "      <td>3.40</td>\n",
       "      <td>8.5</td>\n",
       "      <td>110</td>\n",
       "      <td>5500</td>\n",
       "      <td>19</td>\n",
       "      <td>25</td>\n",
       "      <td>17710</td>\n",
       "      <td>low</td>\n",
       "      <td>0</td>\n",
       "      <td>1</td>\n",
       "    </tr>\n",
       "    <tr>\n",
       "      <td>7</td>\n",
       "      <td>1</td>\n",
       "      <td>99.54</td>\n",
       "      <td>audi</td>\n",
       "      <td>gas</td>\n",
       "      <td>std</td>\n",
       "      <td>four</td>\n",
       "      <td>wagon</td>\n",
       "      <td>fwd</td>\n",
       "      <td>front</td>\n",
       "      <td>105.8</td>\n",
       "      <td>...</td>\n",
       "      <td>3.40</td>\n",
       "      <td>8.5</td>\n",
       "      <td>110</td>\n",
       "      <td>5500</td>\n",
       "      <td>19</td>\n",
       "      <td>25</td>\n",
       "      <td>18920</td>\n",
       "      <td>medium</td>\n",
       "      <td>0</td>\n",
       "      <td>1</td>\n",
       "    </tr>\n",
       "    <tr>\n",
       "      <td>8</td>\n",
       "      <td>1</td>\n",
       "      <td>158.00</td>\n",
       "      <td>audi</td>\n",
       "      <td>gas</td>\n",
       "      <td>turbo</td>\n",
       "      <td>four</td>\n",
       "      <td>sedan</td>\n",
       "      <td>fwd</td>\n",
       "      <td>front</td>\n",
       "      <td>105.8</td>\n",
       "      <td>...</td>\n",
       "      <td>3.40</td>\n",
       "      <td>8.3</td>\n",
       "      <td>140</td>\n",
       "      <td>5500</td>\n",
       "      <td>17</td>\n",
       "      <td>20</td>\n",
       "      <td>23875</td>\n",
       "      <td>medium</td>\n",
       "      <td>0</td>\n",
       "      <td>1</td>\n",
       "    </tr>\n",
       "    <tr>\n",
       "      <td>9</td>\n",
       "      <td>2</td>\n",
       "      <td>192.00</td>\n",
       "      <td>bmw</td>\n",
       "      <td>gas</td>\n",
       "      <td>std</td>\n",
       "      <td>two</td>\n",
       "      <td>sedan</td>\n",
       "      <td>rwd</td>\n",
       "      <td>front</td>\n",
       "      <td>101.2</td>\n",
       "      <td>...</td>\n",
       "      <td>2.80</td>\n",
       "      <td>8.8</td>\n",
       "      <td>101</td>\n",
       "      <td>5800</td>\n",
       "      <td>23</td>\n",
       "      <td>29</td>\n",
       "      <td>16430</td>\n",
       "      <td>low</td>\n",
       "      <td>0</td>\n",
       "      <td>1</td>\n",
       "    </tr>\n",
       "  </tbody>\n",
       "</table>\n",
       "<p>10 rows × 29 columns</p>\n",
       "</div>"
      ],
      "text/plain": [
       "   symboling  normalized-losses         make fuel-type aspiration  \\\n",
       "0          3              99.54  alfa-romero       gas        std   \n",
       "1          3              99.54  alfa-romero       gas        std   \n",
       "2          1              99.54  alfa-romero       gas        std   \n",
       "3          2             164.00         audi       gas        std   \n",
       "4          2             164.00         audi       gas        std   \n",
       "5          2              99.54         audi       gas        std   \n",
       "6          1             158.00         audi       gas        std   \n",
       "7          1              99.54         audi       gas        std   \n",
       "8          1             158.00         audi       gas      turbo   \n",
       "9          2             192.00          bmw       gas        std   \n",
       "\n",
       "  num-of-doors   body-style drive-wheels engine-location  wheel-base  ...  \\\n",
       "0          two  convertible          rwd           front        88.6  ...   \n",
       "1          two  convertible          rwd           front        88.6  ...   \n",
       "2          two    hatchback          rwd           front        94.5  ...   \n",
       "3         four        sedan          fwd           front        99.8  ...   \n",
       "4         four        sedan          4wd           front        99.4  ...   \n",
       "5          two        sedan          fwd           front        99.8  ...   \n",
       "6         four        sedan          fwd           front       105.8  ...   \n",
       "7         four        wagon          fwd           front       105.8  ...   \n",
       "8         four        sedan          fwd           front       105.8  ...   \n",
       "9          two        sedan          rwd           front       101.2  ...   \n",
       "\n",
       "   stroke  compression-ratio  horsepower  peak-rpm city-mpg highway-mpg  \\\n",
       "0    2.68                9.0         111      5000       21          27   \n",
       "1    2.68                9.0         111      5000       21          27   \n",
       "2    3.47                9.0         154      5000       19          26   \n",
       "3    3.40               10.0         102      5500       24          30   \n",
       "4    3.40                8.0         115      5500       18          22   \n",
       "5    3.40                8.5         110      5500       19          25   \n",
       "6    3.40                8.5         110      5500       19          25   \n",
       "7    3.40                8.5         110      5500       19          25   \n",
       "8    3.40                8.3         140      5500       17          20   \n",
       "9    2.80                8.8         101      5800       23          29   \n",
       "\n",
       "   price price-binned diesel gas  \n",
       "0  13495          low      0   1  \n",
       "1  16500          low      0   1  \n",
       "2  16500          low      0   1  \n",
       "3  13950          low      0   1  \n",
       "4  17450          low      0   1  \n",
       "5  15250          low      0   1  \n",
       "6  17710          low      0   1  \n",
       "7  18920       medium      0   1  \n",
       "8  23875       medium      0   1  \n",
       "9  16430          low      0   1  \n",
       "\n",
       "[10 rows x 29 columns]"
      ]
     },
     "execution_count": 28,
     "metadata": {},
     "output_type": "execute_result"
    }
   ],
   "source": [
    "df = pd.read_csv(\"C:/Users/Jay Rao/Desktop/IBM Data analysis with Python/automobiles_fuel_dummies.csv\")\n",
    "df = df.drop(df.columns[[0]],axis =1)\n",
    "df.head(10)"
   ]
  },
  {
   "cell_type": "markdown",
   "metadata": {},
   "source": [
    "### Creating a Simple linear regression model that predicts the car price(y) based on highway-mpg(x)"
   ]
  },
  {
   "cell_type": "code",
   "execution_count": 6,
   "metadata": {},
   "outputs": [],
   "source": [
    "# creating a linear regression object\n",
    " \n",
    "lm = LinearRegression()\n"
   ]
  },
  {
   "cell_type": "markdown",
   "metadata": {},
   "source": [
    "### Define X and Y"
   ]
  },
  {
   "cell_type": "code",
   "execution_count": 9,
   "metadata": {},
   "outputs": [],
   "source": [
    "X = df[['highway-mpg']]\n",
    "Y = df[['price']]"
   ]
  },
  {
   "cell_type": "markdown",
   "metadata": {},
   "source": [
    "### Build model using fit() function"
   ]
  },
  {
   "cell_type": "code",
   "execution_count": 10,
   "metadata": {},
   "outputs": [
    {
     "data": {
      "text/plain": [
       "LinearRegression(copy_X=True, fit_intercept=True, n_jobs=None, normalize=False)"
      ]
     },
     "execution_count": 10,
     "metadata": {},
     "output_type": "execute_result"
    }
   ],
   "source": [
    "fit = lm.fit(X,Y)\n",
    "fit"
   ]
  },
  {
   "cell_type": "markdown",
   "metadata": {},
   "source": [
    "### Predict price based on highway miles per gallon using the above model"
   ]
  },
  {
   "cell_type": "code",
   "execution_count": 15,
   "metadata": {},
   "outputs": [
    {
     "data": {
      "text/plain": [
       "array([[16236.50464347],\n",
       "       [16236.50464347],\n",
       "       [17058.23802179],\n",
       "       [13771.3045085 ],\n",
       "       [20345.17153508],\n",
       "       [17879.97140011],\n",
       "       [17879.97140011],\n",
       "       [17879.97140011],\n",
       "       [21988.63829172],\n",
       "       [14593.03788682],\n",
       "       [14593.03788682],\n",
       "       [15414.77126514],\n",
       "       [15414.77126514],\n",
       "       [17879.97140011],\n",
       "       [20345.17153508],\n",
       "       [20345.17153508],\n",
       "       [21988.63829172],\n",
       "       [-5128.5631929 ],\n",
       "       [ 3088.77059031],\n",
       "       [ 3088.77059031],\n",
       "       [ 4732.23734696],\n",
       "       [ 7197.43748192],\n",
       "       [13771.3045085 ],\n",
       "       [ 7197.43748192],\n",
       "       [ 7197.43748192],\n",
       "       [ 7197.43748192],\n",
       "       [13771.3045085 ],\n",
       "       [13771.3045085 ],\n",
       "       [18701.70477843],\n",
       "       [-5950.29657123],\n",
       "       [ 7197.43748192],\n",
       "       [ 3910.50396864],\n",
       "       [10484.37099521],\n",
       "       [10484.37099521],\n",
       "       [10484.37099521],\n",
       "       [10484.37099521],\n",
       "       [11306.10437353],\n",
       "       [11306.10437353],\n",
       "       [11306.10437353],\n",
       "       [11306.10437353],\n",
       "       [15414.77126514],\n",
       "       [12949.57113018],\n",
       "       [14593.03788682],\n",
       "       [14593.03788682],\n",
       "       [22810.37167004],\n",
       "       [22810.37167004],\n",
       "       [24453.83842668],\n",
       "       [12949.57113018],\n",
       "       [ 7197.43748192],\n",
       "       [ 7197.43748192],\n",
       "       [ 7197.43748192],\n",
       "       [ 7197.43748192],\n",
       "       [19523.43815675],\n",
       "       [19523.43815675],\n",
       "       [19523.43815675],\n",
       "       [19523.43815675],\n",
       "       [12127.83775186],\n",
       "       [12127.83775186],\n",
       "       [12127.83775186],\n",
       "       [12127.83775186],\n",
       "       [ 3910.50396864],\n",
       "       [12127.83775186],\n",
       "       [16236.50464347],\n",
       "       [ 6375.7041036 ],\n",
       "       [17879.97140011],\n",
       "       [17879.97140011],\n",
       "       [17879.97140011],\n",
       "       [17879.97140011],\n",
       "       [23632.10504836],\n",
       "       [23632.10504836],\n",
       "       [25275.57180501],\n",
       "       [25275.57180501],\n",
       "       [18701.70477843],\n",
       "       [ 4732.23734696],\n",
       "       [ 7197.43748192],\n",
       "       [ 7197.43748192],\n",
       "       [13771.3045085 ],\n",
       "       [13771.3045085 ],\n",
       "       [12127.83775186],\n",
       "       [18701.70477843],\n",
       "       [18701.70477843],\n",
       "       [18701.70477843],\n",
       "       [12127.83775186],\n",
       "       [12127.83775186],\n",
       "       [13771.3045085 ],\n",
       "       [13771.3045085 ],\n",
       "       [ 8019.17086025],\n",
       "       [-2663.36305794],\n",
       "       [ 8019.17086025],\n",
       "       [ 8019.17086025],\n",
       "       [ 8019.17086025],\n",
       "       [ 8019.17086025],\n",
       "       [ 8019.17086025],\n",
       "       [ 8019.17086025],\n",
       "       [ 8019.17086025],\n",
       "       [ 8019.17086025],\n",
       "       [10484.37099521],\n",
       "       [10484.37099521],\n",
       "       [20345.17153508],\n",
       "       [20345.17153508],\n",
       "       [17879.97140011],\n",
       "       [17879.97140011],\n",
       "       [19523.43815675],\n",
       "       [17879.97140011],\n",
       "       [18701.70477843],\n",
       "       [11306.10437353],\n",
       "       [18701.70477843],\n",
       "       [17879.97140011],\n",
       "       [18701.70477843],\n",
       "       [11306.10437353],\n",
       "       [18701.70477843],\n",
       "       [17879.97140011],\n",
       "       [18701.70477843],\n",
       "       [11306.10437353],\n",
       "       [18701.70477843],\n",
       "       [ 4732.23734696],\n",
       "       [13771.3045085 ],\n",
       "       [ 7197.43748192],\n",
       "       [ 7197.43748192],\n",
       "       [ 7197.43748192],\n",
       "       [13771.3045085 ],\n",
       "       [18701.70477843],\n",
       "       [16236.50464347],\n",
       "       [17879.97140011],\n",
       "       [17879.97140011],\n",
       "       [17879.97140011],\n",
       "       [12949.57113018],\n",
       "       [12949.57113018],\n",
       "       [15414.77126514],\n",
       "       [15414.77126514],\n",
       "       [15414.77126514],\n",
       "       [15414.77126514],\n",
       "       [17058.23802179],\n",
       "       [17058.23802179],\n",
       "       [ 8840.90423857],\n",
       "       [12949.57113018],\n",
       "       [12949.57113018],\n",
       "       [ 8019.17086025],\n",
       "       [11306.10437353],\n",
       "       [12127.83775186],\n",
       "       [17879.97140011],\n",
       "       [14593.03788682],\n",
       "       [12127.83775186],\n",
       "       [12949.57113018],\n",
       "       [14593.03788682],\n",
       "       [19523.43815675],\n",
       "       [ 6375.7041036 ],\n",
       "       [ 7197.43748192],\n",
       "       [ 7197.43748192],\n",
       "       [ 8019.17086025],\n",
       "       [12127.83775186],\n",
       "       [12127.83775186],\n",
       "       [ 8019.17086025],\n",
       "       [ 8019.17086025],\n",
       "       [ 8840.90423857],\n",
       "       [ -198.16292297],\n",
       "       [ -198.16292297],\n",
       "       [10484.37099521],\n",
       "       [10484.37099521],\n",
       "       [10484.37099521],\n",
       "       [10484.37099521],\n",
       "       [14593.03788682],\n",
       "       [14593.03788682],\n",
       "       [13771.3045085 ],\n",
       "       [13771.3045085 ],\n",
       "       [13771.3045085 ],\n",
       "       [13771.3045085 ],\n",
       "       [13771.3045085 ],\n",
       "       [13771.3045085 ],\n",
       "       [10484.37099521],\n",
       "       [11306.10437353],\n",
       "       [12127.83775186],\n",
       "       [12127.83775186],\n",
       "       [12127.83775186],\n",
       "       [18701.70477843],\n",
       "       [18701.70477843],\n",
       "       [18701.70477843],\n",
       "       [18701.70477843],\n",
       "       [  623.57045535],\n",
       "       [10484.37099521],\n",
       "       [  623.57045535],\n",
       "       [10484.37099521],\n",
       "       [10484.37099521],\n",
       "       [ 3910.50396864],\n",
       "       [12127.83775186],\n",
       "       [14593.03788682],\n",
       "       [14593.03788682],\n",
       "       [18701.70477843],\n",
       "       [ 7197.43748192],\n",
       "       [12949.57113018],\n",
       "       [15414.77126514],\n",
       "       [15414.77126514],\n",
       "       [15414.77126514],\n",
       "       [15414.77126514],\n",
       "       [20345.17153508],\n",
       "       [20345.17153508],\n",
       "       [15414.77126514],\n",
       "       [17879.97140011],\n",
       "       [19523.43815675],\n",
       "       [16236.50464347],\n",
       "       [17879.97140011]])"
      ]
     },
     "execution_count": 15,
     "metadata": {},
     "output_type": "execute_result"
    }
   ],
   "source": [
    "yhat = lm.predict(X)\n",
    "yhat"
   ]
  },
  {
   "cell_type": "markdown",
   "metadata": {},
   "source": [
    "### Intercept for our model B0 can be seen below "
   ]
  },
  {
   "cell_type": "code",
   "execution_count": 21,
   "metadata": {},
   "outputs": [
    {
     "data": {
      "text/plain": [
       "array([38423.30585816])"
      ]
     },
     "execution_count": 21,
     "metadata": {},
     "output_type": "execute_result"
    }
   ],
   "source": [
    "lm.intercept_"
   ]
  },
  {
   "cell_type": "markdown",
   "metadata": {},
   "source": [
    "### Slope for our model "
   ]
  },
  {
   "cell_type": "code",
   "execution_count": 22,
   "metadata": {},
   "outputs": [
    {
     "data": {
      "text/plain": [
       "array([[-821.73337832]])"
      ]
     },
     "execution_count": 22,
     "metadata": {},
     "output_type": "execute_result"
    }
   ],
   "source": [
    "lm.coef_"
   ]
  },
  {
   "cell_type": "markdown",
   "metadata": {},
   "source": [
    "### Building a multi linear regression model to predict price depending on the horsepower, curb-weight, engine-size, hightway-mpg"
   ]
  },
  {
   "cell_type": "code",
   "execution_count": 24,
   "metadata": {},
   "outputs": [
    {
     "data": {
      "text/plain": [
       "symboling              int64\n",
       "normalized-losses    float64\n",
       "make                  object\n",
       "fuel-type             object\n",
       "aspiration            object\n",
       "num-of-doors          object\n",
       "body-style            object\n",
       "drive-wheels          object\n",
       "engine-location       object\n",
       "wheel-base           float64\n",
       "length               float64\n",
       "width                float64\n",
       "height               float64\n",
       "curb-weight            int64\n",
       "engine-type           object\n",
       "num-of-cylinders      object\n",
       "engine-size            int64\n",
       "fuel-system           object\n",
       "bore                  object\n",
       "stroke                object\n",
       "compression-ratio    float64\n",
       "horsepower            object\n",
       "peak-rpm              object\n",
       "city-mpg               int64\n",
       "highway-mpg            int64\n",
       "price                  int64\n",
       "price-binned          object\n",
       "diesel                 int64\n",
       "gas                    int64\n",
       "dtype: object"
      ]
     },
     "execution_count": 24,
     "metadata": {},
     "output_type": "execute_result"
    }
   ],
   "source": [
    "df.dtypes"
   ]
  },
  {
   "cell_type": "code",
   "execution_count": 26,
   "metadata": {},
   "outputs": [],
   "source": [
    "import numpy as np"
   ]
  },
  {
   "cell_type": "code",
   "execution_count": 29,
   "metadata": {},
   "outputs": [],
   "source": [
    "# converting horsepower to int64\n",
    "df['horsepower'] = df['horsepower'].replace('?',0)\n",
    "df['horsepower'] = df['horsepower'].astype('int64')"
   ]
  },
  {
   "cell_type": "code",
   "execution_count": 30,
   "metadata": {},
   "outputs": [],
   "source": [
    "X1 = df[['horsepower','curb-weight','engine-size','highway-mpg']]"
   ]
  },
  {
   "cell_type": "markdown",
   "metadata": {},
   "source": [
    "### Creating the fit"
   ]
  },
  {
   "cell_type": "code",
   "execution_count": 31,
   "metadata": {},
   "outputs": [],
   "source": [
    "fit1 = lm.fit(X1,Y)"
   ]
  },
  {
   "cell_type": "code",
   "execution_count": 34,
   "metadata": {},
   "outputs": [
    {
     "name": "stdout",
     "output_type": "stream",
     "text": [
      "intercept is  [-14974.17885605]  slope is  [[49.03058337  4.57702072 84.8763252  22.68294808]]\n"
     ]
    }
   ],
   "source": [
    "print(\"intercept is \",lm.intercept_ ,\" slope is \",lm.coef_)"
   ]
  },
  {
   "cell_type": "markdown",
   "metadata": {},
   "source": [
    "### Predicting the price based on the parameters"
   ]
  },
  {
   "cell_type": "code",
   "execution_count": 62,
   "metadata": {},
   "outputs": [
    {
     "data": {
      "text/plain": [
       "array([[13776.82657166],\n",
       "       [13776.82657166],\n",
       "       [18988.41856129],\n",
       "       [10655.44596409],\n",
       "       [15632.04983526],\n",
       "       [14004.03019369],\n",
       "       [15546.48617711],\n",
       "       [16049.95845656],\n",
       "       [17587.24632653],\n",
       "       [10764.32330934],\n",
       "       [10764.32330934],\n",
       "       [17917.08776706],\n",
       "       [18168.82390679],\n",
       "       [19428.11107202],\n",
       "       [26971.34107335],\n",
       "       [27657.8941817 ],\n",
       "       [28184.65587582],\n",
       "       [  569.54806551],\n",
       "       [ 5649.53484825],\n",
       "       [ 5809.73057353],\n",
       "       [ 5515.2618268 ],\n",
       "       [ 5447.21298256],\n",
       "       [ 8765.20905598],\n",
       "       [ 5863.72186829],\n",
       "       [ 5964.41632418],\n",
       "       [ 5964.41632418],\n",
       "       [ 9053.56136149],\n",
       "       [11978.66012751],\n",
       "       [18786.35846694],\n",
       "       [ 4743.53259083],\n",
       "       [ 5748.32011872],\n",
       "       [ 4033.55672263],\n",
       "       [ 6211.4078338 ],\n",
       "       [ 6284.64016535],\n",
       "       [ 6531.79928436],\n",
       "       [ 6595.87757447],\n",
       "       [ 9561.6027067 ],\n",
       "       [ 9804.18480499],\n",
       "       [ 9872.84011582],\n",
       "       [10184.07752494],\n",
       "       [11231.78446221],\n",
       "       [10463.55515885],\n",
       "       [ 9625.7816656 ],\n",
       "       [12710.23649432],\n",
       "       [34594.43798733],\n",
       "       [34594.43798733],\n",
       "       [44006.35797021],\n",
       "       [ 5437.38696131],\n",
       "       [ 5641.93780509],\n",
       "       [ 5664.82290871],\n",
       "       [ 5847.9037376 ],\n",
       "       [ 5870.78884121],\n",
       "       [ 7334.2699526 ],\n",
       "       [ 7334.2699526 ],\n",
       "       [ 7357.15505622],\n",
       "       [10399.31552571],\n",
       "       [11141.35058186],\n",
       "       [11255.77609991],\n",
       "       [11141.35058186],\n",
       "       [11255.77609991],\n",
       "       [10653.03559721],\n",
       "       [11324.43141075],\n",
       "       [15625.26160204],\n",
       "       [13172.04164789],\n",
       "       [23244.25194972],\n",
       "       [24319.85181947],\n",
       "       [23152.71153528],\n",
       "       [24411.39223391],\n",
       "       [30012.97222838],\n",
       "       [29761.23608866],\n",
       "       [38402.66462989],\n",
       "       [37216.41049548],\n",
       "       [19352.37981633],\n",
       "       [ 5877.24934753],\n",
       "       [ 5928.20304207],\n",
       "       [ 6202.82428541],\n",
       "       [ 8843.01840826],\n",
       "       [11577.79214026],\n",
       "       [11076.58273415],\n",
       "       [18887.05292283],\n",
       "       [19289.83074639],\n",
       "       [19312.71585   ],\n",
       "       [11245.93250088],\n",
       "       [11429.01332977],\n",
       "       [11728.83382409],\n",
       "       [11728.83382409],\n",
       "       [ 6127.19616361],\n",
       "       [ 6830.76292514],\n",
       "       [ 6259.92976455],\n",
       "       [ 6351.470179  ],\n",
       "       [ 6745.09396112],\n",
       "       [ 6410.97144839],\n",
       "       [ 6763.40204401],\n",
       "       [ 6502.51186284],\n",
       "       [ 6804.59523051],\n",
       "       [ 6671.86162956],\n",
       "       [11375.16314734],\n",
       "       [11274.46869144],\n",
       "       [22505.98866936],\n",
       "       [23425.96983455],\n",
       "       [22413.84178832],\n",
       "       [22856.4336832 ],\n",
       "       [25083.52853084],\n",
       "       [23167.67109232],\n",
       "       [14333.94008926],\n",
       "       [17966.20052934],\n",
       "       [15295.11444094],\n",
       "       [18851.182773  ],\n",
       "       [14487.61506225],\n",
       "       [18217.93666907],\n",
       "       [15448.78941394],\n",
       "       [19102.91891273],\n",
       "       [14585.67622899],\n",
       "       [18217.93666907],\n",
       "       [18232.05717296],\n",
       "       [ 5707.49669714],\n",
       "       [ 8765.20905598],\n",
       "       [ 5863.72186829],\n",
       "       [ 5964.41632418],\n",
       "       [ 7567.98511165],\n",
       "       [11978.66012751],\n",
       "       [18818.39761199],\n",
       "       [18180.92283463],\n",
       "       [24822.50180146],\n",
       "       [24822.50180146],\n",
       "       [25023.89071324],\n",
       "       [ 8736.80390304],\n",
       "       [ 8192.13843709],\n",
       "       [13490.06428907],\n",
       "       [13659.41405579],\n",
       "       [13714.33830446],\n",
       "       [13947.7663613 ],\n",
       "       [16582.7806696 ],\n",
       "       [16761.28447777],\n",
       "       [ 6841.41355182],\n",
       "       [ 8178.1521726 ],\n",
       "       [ 8727.39465927],\n",
       "       [ 8869.95062944],\n",
       "       [ 8985.18476962],\n",
       "       [10237.42193029],\n",
       "       [ 9696.24022583],\n",
       "       [11780.98652608],\n",
       "       [ 9420.20389377],\n",
       "       [10741.09636527],\n",
       "       [ 9947.16774343],\n",
       "       [12285.67173872],\n",
       "       [ 5844.36033956],\n",
       "       [ 6073.41353121],\n",
       "       [ 5958.98801315],\n",
       "       [ 7149.21555648],\n",
       "       [ 7081.57102331],\n",
       "       [10834.7280156 ],\n",
       "       [ 7139.89105085],\n",
       "       [ 7268.04763108],\n",
       "       [ 8337.23785811],\n",
       "       [ 8586.75028699],\n",
       "       [ 7426.22180104],\n",
       "       [ 7259.50005623],\n",
       "       [ 7341.88642923],\n",
       "       [ 7474.62003018],\n",
       "       [ 7634.81575546],\n",
       "       [ 9859.88378052],\n",
       "       [10020.07950581],\n",
       "       [15411.43337008],\n",
       "       [15393.12528719],\n",
       "       [15461.78059803],\n",
       "       [16047.63925048],\n",
       "       [16207.83497576],\n",
       "       [17402.43738428],\n",
       "       [11308.91692234],\n",
       "       [10040.99817918],\n",
       "       [11666.32884974],\n",
       "       [11666.32884974],\n",
       "       [11867.71776152],\n",
       "       [21599.20109792],\n",
       "       [21782.28192681],\n",
       "       [22063.48639304],\n",
       "       [21306.26355553],\n",
       "       [ 7200.47448779],\n",
       "       [ 9326.79918672],\n",
       "       [ 7214.20554996],\n",
       "       [ 9340.53024889],\n",
       "       [ 9628.88255439],\n",
       "       [ 8159.69923123],\n",
       "       [10433.40092679],\n",
       "       [ 9664.50329566],\n",
       "       [ 9513.46161182],\n",
       "       [14686.20843685],\n",
       "       [ 9258.99282671],\n",
       "       [11026.10742828],\n",
       "       [16546.27638991],\n",
       "       [17104.67291803],\n",
       "       [16651.54786652],\n",
       "       [17141.28908381],\n",
       "       [18438.75088196],\n",
       "       [18951.37720285],\n",
       "       [16729.3572188 ],\n",
       "       [19360.6862195 ],\n",
       "       [20587.21779533],\n",
       "       [17866.84539598],\n",
       "       [17164.78065401]])"
      ]
     },
     "execution_count": 62,
     "metadata": {},
     "output_type": "execute_result"
    }
   ],
   "source": [
    "yhat1 = lm.predict(X1)\n",
    "yhat1"
   ]
  },
  {
   "cell_type": "markdown",
   "metadata": {},
   "source": [
    "# Evaluation of our prediction models"
   ]
  },
  {
   "cell_type": "markdown",
   "metadata": {},
   "source": [
    "### regression plot shows us the relations between predictor and the predicting variable"
   ]
  },
  {
   "cell_type": "code",
   "execution_count": 99,
   "metadata": {},
   "outputs": [
    {
     "data": {
      "image/png": "[encoded data removed]",
      "text/plain": [
       "<Figure size 432x288 with 1 Axes>"
      ]
     },
     "metadata": {},
     "output_type": "display_data"
    }
   ],
   "source": [
    "import seaborn as sb\n",
    "import matplotlib.pyplot as plt\n",
    "\n",
    "sb.set(); np.random.seed(0)\n",
    "x = np.random.randn(100)\n",
    "ax = sb.distplot(x)"
   ]
  },
  {
   "cell_type": "code",
   "execution_count": 80,
   "metadata": {},
   "outputs": [
    {
     "data": {
      "text/plain": [
       "<matplotlib.axes._subplots.AxesSubplot at 0x243c6e42688>"
      ]
     },
     "execution_count": 80,
     "metadata": {},
     "output_type": "execute_result"
    },
    {
     "data": {
      "image/png": "[encoded data removed]",
      "text/plain": [
       "<Figure size 432x288 with 1 Axes>"
      ]
     },
     "metadata": {},
     "output_type": "display_data"
    }
   ],
   "source": [
    "sb.regplot(x = df['highway-mpg'] ,y = df['price'], data = df)\n"
   ]
  },
  {
   "cell_type": "markdown",
   "metadata": {},
   "source": [
    "### WE can see an inverse relation above, as the highway-mpg increases the price decreases"
   ]
  },
  {
   "cell_type": "markdown",
   "metadata": {},
   "source": [
    "### Residual plot is the scatter plot of residual error, that is the difference between predicted values and actual values"
   ]
  },
  {
   "cell_type": "code",
   "execution_count": 79,
   "metadata": {},
   "outputs": [
    {
     "data": {
      "text/plain": [
       "<matplotlib.axes._subplots.AxesSubplot at 0x243c6f49308>"
      ]
     },
     "execution_count": 79,
     "metadata": {},
     "output_type": "execute_result"
    },
    {
     "data": {
      "image/png": "[encoded data removed]",
      "text/plain": [
       "<Figure size 432x288 with 1 Axes>"
      ]
     },
     "metadata": {},
     "output_type": "display_data"
    }
   ],
   "source": [
    "sb.residplot(x = df['highway-mpg'], y = df['price'] , data = df)"
   ]
  },
  {
   "cell_type": "markdown",
   "metadata": {},
   "source": [
    "### For a linear regression model to be accurate,\n",
    "# 1. The errors must be randomly distributed around x-axis\n",
    "# 2. The errors must not increase with the increase in x"
   ]
  },
  {
   "cell_type": "markdown",
   "metadata": {},
   "source": [
    "### We see in the above residual plt that there is a curvature in the values ie. they are not randomly distributed\n",
    "# therefore our model is incorrect"
   ]
  },
  {
   "cell_type": "markdown",
   "metadata": {},
   "source": [
    "### Let us check for our second model"
   ]
  },
  {
   "cell_type": "markdown",
   "metadata": {},
   "source": [
    "### In case of multiple linear regression model we use distribution plot to check how much does the predicted values differ from the actual values"
   ]
  },
  {
   "cell_type": "code",
   "execution_count": 101,
   "metadata": {},
   "outputs": [
    {
     "data": {
      "text/plain": [
       "<matplotlib.axes._subplots.AxesSubplot at 0x243c6c5b788>"
      ]
     },
     "execution_count": 101,
     "metadata": {},
     "output_type": "execute_result"
    },
    {
     "data": {
      "image/png": "[encoded data removed]",
      "text/plain": [
       "<Figure size 432x288 with 1 Axes>"
      ]
     },
     "metadata": {},
     "output_type": "display_data"
    }
   ],
   "source": [
    "axl = sb.distplot(df['price'], hist = False, color = 'r', label = 'Actual Values')\n",
    "\n",
    "axl"
   ]
  },
  {
   "cell_type": "code",
   "execution_count": 96,
   "metadata": {},
   "outputs": [
    {
     "data": {
      "text/plain": [
       "<matplotlib.axes._subplots.AxesSubplot at 0x243c837cbc8>"
      ]
     },
     "execution_count": 96,
     "metadata": {},
     "output_type": "execute_result"
    },
    {
     "data": {
      "image/png": "[encoded data removed]",
      "text/plain": [
       "<Figure size 432x288 with 1 Axes>"
      ]
     },
     "metadata": {},
     "output_type": "display_data"
    }
   ],
   "source": [
    "sb.kdeplot(df['price'])"
   ]
  },
  {
   "cell_type": "code",
   "execution_count": 106,
   "metadata": {},
   "outputs": [
    {
     "data": {
      "text/plain": [
       "<matplotlib.axes._subplots.AxesSubplot at 0x243c8580448>"
      ]
     },
     "execution_count": 106,
     "metadata": {},
     "output_type": "execute_result"
    },
    {
     "data": {
      "image/png": "[encoded data removed]",
      "text/plain": [
       "<Figure size 432x288 with 1 Axes>"
      ]
     },
     "metadata": {},
     "output_type": "display_data"
    }
   ],
   "source": [
    "sb.distplot(yhat1, hist = False , color = 'b', label = 'Predicted Values' , ax =sb.distplot(df['price'], hist = False, color = 'r', label = 'Actual Values'))"
   ]
  }
 ],
 "metadata": {
  "kernelspec": {
   "display_name": "Python 3",
   "language": "python",
   "name": "python3"
  },
  "language_info": {
   "codemirror_mode": {
    "name": "ipython",
    "version": 3
   },
   "file_extension": ".py",
   "mimetype": "text/x-python",
   "name": "python",
   "nbconvert_exporter": "python",
   "pygments_lexer": "ipython3",
   "version": "3.7.4"
  }
 },
 "nbformat": 4,
 "nbformat_minor": 2
}
